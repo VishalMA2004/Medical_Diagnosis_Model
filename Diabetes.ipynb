{
  "cells": [
    {
      "cell_type": "code",
      "execution_count": 3,
      "metadata": {
        "id": "RObUs1SxII3L"
      },
      "outputs": [],
      "source": [
        "import numpy as np\n",
        "import matplotlib.pyplot as plt\n",
        "import pandas as pd\n",
        "import seaborn as sns\n",
        "from sklearn.model_selection import train_test_split\n",
        "from sklearn import svm\n",
        "from sklearn.metrics import accuracy_score\n",
        "import warnings\n",
        "warnings.filterwarnings('ignore')"
      ]
    },
    {
      "cell_type": "code",
      "execution_count": 4,
      "metadata": {
        "colab": {
          "base_uri": "https://localhost:8080/",
          "height": 443
        },
        "id": "kUXSF4gAIVqj",
        "outputId": "94ba1428-3c86-4a13-bd8a-11fb542f4c6a"
      },
      "outputs": [
        {
          "data": {
            "application/vnd.microsoft.datawrangler.viewer.v0+json": {
              "columns": [
                {
                  "name": "index",
                  "rawType": "int64",
                  "type": "integer"
                },
                {
                  "name": "Pregnancies",
                  "rawType": "int64",
                  "type": "integer"
                },
                {
                  "name": "Glucose",
                  "rawType": "int64",
                  "type": "integer"
                },
                {
                  "name": "BloodPressure",
                  "rawType": "int64",
                  "type": "integer"
                },
                {
                  "name": "SkinThickness",
                  "rawType": "int64",
                  "type": "integer"
                },
                {
                  "name": "Insulin",
                  "rawType": "int64",
                  "type": "integer"
                },
                {
                  "name": "BMI",
                  "rawType": "float64",
                  "type": "float"
                },
                {
                  "name": "DiabetesPedigreeFunction",
                  "rawType": "float64",
                  "type": "float"
                },
                {
                  "name": "Age",
                  "rawType": "int64",
                  "type": "integer"
                },
                {
                  "name": "Outcome",
                  "rawType": "int64",
                  "type": "integer"
                }
              ],
              "conversionMethod": "pd.DataFrame",
              "ref": "09152a3b-0a46-4e47-85f6-ee56e0d4e382",
              "rows": [
                [
                  "0",
                  "6",
                  "148",
                  "72",
                  "35",
                  "0",
                  "33.6",
                  "0.627",
                  "50",
                  "1"
                ],
                [
                  "1",
                  "1",
                  "85",
                  "66",
                  "29",
                  "0",
                  "26.6",
                  "0.351",
                  "31",
                  "0"
                ],
                [
                  "2",
                  "8",
                  "183",
                  "64",
                  "0",
                  "0",
                  "23.3",
                  "0.672",
                  "32",
                  "1"
                ],
                [
                  "3",
                  "1",
                  "89",
                  "66",
                  "23",
                  "94",
                  "28.1",
                  "0.167",
                  "21",
                  "0"
                ],
                [
                  "4",
                  "0",
                  "137",
                  "40",
                  "35",
                  "168",
                  "43.1",
                  "2.288",
                  "33",
                  "1"
                ],
                [
                  "5",
                  "5",
                  "116",
                  "74",
                  "0",
                  "0",
                  "25.6",
                  "0.201",
                  "30",
                  "0"
                ],
                [
                  "6",
                  "3",
                  "78",
                  "50",
                  "32",
                  "88",
                  "31.0",
                  "0.248",
                  "26",
                  "1"
                ],
                [
                  "7",
                  "10",
                  "115",
                  "0",
                  "0",
                  "0",
                  "35.3",
                  "0.134",
                  "29",
                  "0"
                ],
                [
                  "8",
                  "2",
                  "197",
                  "70",
                  "45",
                  "543",
                  "30.5",
                  "0.158",
                  "53",
                  "1"
                ],
                [
                  "9",
                  "8",
                  "125",
                  "96",
                  "0",
                  "0",
                  "0.0",
                  "0.232",
                  "54",
                  "1"
                ],
                [
                  "10",
                  "4",
                  "110",
                  "92",
                  "0",
                  "0",
                  "37.6",
                  "0.191",
                  "30",
                  "0"
                ],
                [
                  "11",
                  "10",
                  "168",
                  "74",
                  "0",
                  "0",
                  "38.0",
                  "0.537",
                  "34",
                  "1"
                ],
                [
                  "12",
                  "10",
                  "139",
                  "80",
                  "0",
                  "0",
                  "27.1",
                  "1.441",
                  "57",
                  "0"
                ],
                [
                  "13",
                  "1",
                  "189",
                  "60",
                  "23",
                  "846",
                  "30.1",
                  "0.398",
                  "59",
                  "1"
                ],
                [
                  "14",
                  "5",
                  "166",
                  "72",
                  "19",
                  "175",
                  "25.8",
                  "0.587",
                  "51",
                  "1"
                ],
                [
                  "15",
                  "7",
                  "100",
                  "0",
                  "0",
                  "0",
                  "30.0",
                  "0.484",
                  "32",
                  "1"
                ],
                [
                  "16",
                  "0",
                  "118",
                  "84",
                  "47",
                  "230",
                  "45.8",
                  "0.551",
                  "31",
                  "1"
                ],
                [
                  "17",
                  "7",
                  "107",
                  "74",
                  "0",
                  "0",
                  "29.6",
                  "0.254",
                  "31",
                  "1"
                ],
                [
                  "18",
                  "1",
                  "103",
                  "30",
                  "38",
                  "83",
                  "43.3",
                  "0.183",
                  "33",
                  "0"
                ],
                [
                  "19",
                  "1",
                  "115",
                  "70",
                  "30",
                  "96",
                  "34.6",
                  "0.529",
                  "32",
                  "1"
                ],
                [
                  "20",
                  "3",
                  "126",
                  "88",
                  "41",
                  "235",
                  "39.3",
                  "0.704",
                  "27",
                  "0"
                ],
                [
                  "21",
                  "8",
                  "99",
                  "84",
                  "0",
                  "0",
                  "35.4",
                  "0.388",
                  "50",
                  "0"
                ],
                [
                  "22",
                  "7",
                  "196",
                  "90",
                  "0",
                  "0",
                  "39.8",
                  "0.451",
                  "41",
                  "1"
                ],
                [
                  "23",
                  "9",
                  "119",
                  "80",
                  "35",
                  "0",
                  "29.0",
                  "0.263",
                  "29",
                  "1"
                ],
                [
                  "24",
                  "11",
                  "143",
                  "94",
                  "33",
                  "146",
                  "36.6",
                  "0.254",
                  "51",
                  "1"
                ],
                [
                  "25",
                  "10",
                  "125",
                  "70",
                  "26",
                  "115",
                  "31.1",
                  "0.205",
                  "41",
                  "1"
                ],
                [
                  "26",
                  "7",
                  "147",
                  "76",
                  "0",
                  "0",
                  "39.4",
                  "0.257",
                  "43",
                  "1"
                ],
                [
                  "27",
                  "1",
                  "97",
                  "66",
                  "15",
                  "140",
                  "23.2",
                  "0.487",
                  "22",
                  "0"
                ],
                [
                  "28",
                  "13",
                  "145",
                  "82",
                  "19",
                  "110",
                  "22.2",
                  "0.245",
                  "57",
                  "0"
                ],
                [
                  "29",
                  "5",
                  "117",
                  "92",
                  "0",
                  "0",
                  "34.1",
                  "0.337",
                  "38",
                  "0"
                ],
                [
                  "30",
                  "5",
                  "109",
                  "75",
                  "26",
                  "0",
                  "36.0",
                  "0.546",
                  "60",
                  "0"
                ],
                [
                  "31",
                  "3",
                  "158",
                  "76",
                  "36",
                  "245",
                  "31.6",
                  "0.851",
                  "28",
                  "1"
                ],
                [
                  "32",
                  "3",
                  "88",
                  "58",
                  "11",
                  "54",
                  "24.8",
                  "0.267",
                  "22",
                  "0"
                ],
                [
                  "33",
                  "6",
                  "92",
                  "92",
                  "0",
                  "0",
                  "19.9",
                  "0.188",
                  "28",
                  "0"
                ],
                [
                  "34",
                  "10",
                  "122",
                  "78",
                  "31",
                  "0",
                  "27.6",
                  "0.512",
                  "45",
                  "0"
                ],
                [
                  "35",
                  "4",
                  "103",
                  "60",
                  "33",
                  "192",
                  "24.0",
                  "0.966",
                  "33",
                  "0"
                ],
                [
                  "36",
                  "11",
                  "138",
                  "76",
                  "0",
                  "0",
                  "33.2",
                  "0.42",
                  "35",
                  "0"
                ],
                [
                  "37",
                  "9",
                  "102",
                  "76",
                  "37",
                  "0",
                  "32.9",
                  "0.665",
                  "46",
                  "1"
                ],
                [
                  "38",
                  "2",
                  "90",
                  "68",
                  "42",
                  "0",
                  "38.2",
                  "0.503",
                  "27",
                  "1"
                ],
                [
                  "39",
                  "4",
                  "111",
                  "72",
                  "47",
                  "207",
                  "37.1",
                  "1.39",
                  "56",
                  "1"
                ],
                [
                  "40",
                  "3",
                  "180",
                  "64",
                  "25",
                  "70",
                  "34.0",
                  "0.271",
                  "26",
                  "0"
                ],
                [
                  "41",
                  "7",
                  "133",
                  "84",
                  "0",
                  "0",
                  "40.2",
                  "0.696",
                  "37",
                  "0"
                ],
                [
                  "42",
                  "7",
                  "106",
                  "92",
                  "18",
                  "0",
                  "22.7",
                  "0.235",
                  "48",
                  "0"
                ],
                [
                  "43",
                  "9",
                  "171",
                  "110",
                  "24",
                  "240",
                  "45.4",
                  "0.721",
                  "54",
                  "1"
                ],
                [
                  "44",
                  "7",
                  "159",
                  "64",
                  "0",
                  "0",
                  "27.4",
                  "0.294",
                  "40",
                  "0"
                ],
                [
                  "45",
                  "0",
                  "180",
                  "66",
                  "39",
                  "0",
                  "42.0",
                  "1.893",
                  "25",
                  "1"
                ],
                [
                  "46",
                  "1",
                  "146",
                  "56",
                  "0",
                  "0",
                  "29.7",
                  "0.564",
                  "29",
                  "0"
                ],
                [
                  "47",
                  "2",
                  "71",
                  "70",
                  "27",
                  "0",
                  "28.0",
                  "0.586",
                  "22",
                  "0"
                ],
                [
                  "48",
                  "7",
                  "103",
                  "66",
                  "32",
                  "0",
                  "39.1",
                  "0.344",
                  "31",
                  "1"
                ],
                [
                  "49",
                  "7",
                  "105",
                  "0",
                  "0",
                  "0",
                  "0.0",
                  "0.305",
                  "24",
                  "0"
                ]
              ],
              "shape": {
                "columns": 9,
                "rows": 768
              }
            },
            "text/html": [
              "<div>\n",
              "<style scoped>\n",
              "    .dataframe tbody tr th:only-of-type {\n",
              "        vertical-align: middle;\n",
              "    }\n",
              "\n",
              "    .dataframe tbody tr th {\n",
              "        vertical-align: top;\n",
              "    }\n",
              "\n",
              "    .dataframe thead th {\n",
              "        text-align: right;\n",
              "    }\n",
              "</style>\n",
              "<table border=\"1\" class=\"dataframe\">\n",
              "  <thead>\n",
              "    <tr style=\"text-align: right;\">\n",
              "      <th></th>\n",
              "      <th>Pregnancies</th>\n",
              "      <th>Glucose</th>\n",
              "      <th>BloodPressure</th>\n",
              "      <th>SkinThickness</th>\n",
              "      <th>Insulin</th>\n",
              "      <th>BMI</th>\n",
              "      <th>DiabetesPedigreeFunction</th>\n",
              "      <th>Age</th>\n",
              "      <th>Outcome</th>\n",
              "    </tr>\n",
              "  </thead>\n",
              "  <tbody>\n",
              "    <tr>\n",
              "      <th>0</th>\n",
              "      <td>6</td>\n",
              "      <td>148</td>\n",
              "      <td>72</td>\n",
              "      <td>35</td>\n",
              "      <td>0</td>\n",
              "      <td>33.6</td>\n",
              "      <td>0.627</td>\n",
              "      <td>50</td>\n",
              "      <td>1</td>\n",
              "    </tr>\n",
              "    <tr>\n",
              "      <th>1</th>\n",
              "      <td>1</td>\n",
              "      <td>85</td>\n",
              "      <td>66</td>\n",
              "      <td>29</td>\n",
              "      <td>0</td>\n",
              "      <td>26.6</td>\n",
              "      <td>0.351</td>\n",
              "      <td>31</td>\n",
              "      <td>0</td>\n",
              "    </tr>\n",
              "    <tr>\n",
              "      <th>2</th>\n",
              "      <td>8</td>\n",
              "      <td>183</td>\n",
              "      <td>64</td>\n",
              "      <td>0</td>\n",
              "      <td>0</td>\n",
              "      <td>23.3</td>\n",
              "      <td>0.672</td>\n",
              "      <td>32</td>\n",
              "      <td>1</td>\n",
              "    </tr>\n",
              "    <tr>\n",
              "      <th>3</th>\n",
              "      <td>1</td>\n",
              "      <td>89</td>\n",
              "      <td>66</td>\n",
              "      <td>23</td>\n",
              "      <td>94</td>\n",
              "      <td>28.1</td>\n",
              "      <td>0.167</td>\n",
              "      <td>21</td>\n",
              "      <td>0</td>\n",
              "    </tr>\n",
              "    <tr>\n",
              "      <th>4</th>\n",
              "      <td>0</td>\n",
              "      <td>137</td>\n",
              "      <td>40</td>\n",
              "      <td>35</td>\n",
              "      <td>168</td>\n",
              "      <td>43.1</td>\n",
              "      <td>2.288</td>\n",
              "      <td>33</td>\n",
              "      <td>1</td>\n",
              "    </tr>\n",
              "    <tr>\n",
              "      <th>...</th>\n",
              "      <td>...</td>\n",
              "      <td>...</td>\n",
              "      <td>...</td>\n",
              "      <td>...</td>\n",
              "      <td>...</td>\n",
              "      <td>...</td>\n",
              "      <td>...</td>\n",
              "      <td>...</td>\n",
              "      <td>...</td>\n",
              "    </tr>\n",
              "    <tr>\n",
              "      <th>763</th>\n",
              "      <td>10</td>\n",
              "      <td>101</td>\n",
              "      <td>76</td>\n",
              "      <td>48</td>\n",
              "      <td>180</td>\n",
              "      <td>32.9</td>\n",
              "      <td>0.171</td>\n",
              "      <td>63</td>\n",
              "      <td>0</td>\n",
              "    </tr>\n",
              "    <tr>\n",
              "      <th>764</th>\n",
              "      <td>2</td>\n",
              "      <td>122</td>\n",
              "      <td>70</td>\n",
              "      <td>27</td>\n",
              "      <td>0</td>\n",
              "      <td>36.8</td>\n",
              "      <td>0.340</td>\n",
              "      <td>27</td>\n",
              "      <td>0</td>\n",
              "    </tr>\n",
              "    <tr>\n",
              "      <th>765</th>\n",
              "      <td>5</td>\n",
              "      <td>121</td>\n",
              "      <td>72</td>\n",
              "      <td>23</td>\n",
              "      <td>112</td>\n",
              "      <td>26.2</td>\n",
              "      <td>0.245</td>\n",
              "      <td>30</td>\n",
              "      <td>0</td>\n",
              "    </tr>\n",
              "    <tr>\n",
              "      <th>766</th>\n",
              "      <td>1</td>\n",
              "      <td>126</td>\n",
              "      <td>60</td>\n",
              "      <td>0</td>\n",
              "      <td>0</td>\n",
              "      <td>30.1</td>\n",
              "      <td>0.349</td>\n",
              "      <td>47</td>\n",
              "      <td>1</td>\n",
              "    </tr>\n",
              "    <tr>\n",
              "      <th>767</th>\n",
              "      <td>1</td>\n",
              "      <td>93</td>\n",
              "      <td>70</td>\n",
              "      <td>31</td>\n",
              "      <td>0</td>\n",
              "      <td>30.4</td>\n",
              "      <td>0.315</td>\n",
              "      <td>23</td>\n",
              "      <td>0</td>\n",
              "    </tr>\n",
              "  </tbody>\n",
              "</table>\n",
              "<p>768 rows × 9 columns</p>\n",
              "</div>"
            ],
            "text/plain": [
              "     Pregnancies  Glucose  BloodPressure  SkinThickness  Insulin   BMI  \\\n",
              "0              6      148             72             35        0  33.6   \n",
              "1              1       85             66             29        0  26.6   \n",
              "2              8      183             64              0        0  23.3   \n",
              "3              1       89             66             23       94  28.1   \n",
              "4              0      137             40             35      168  43.1   \n",
              "..           ...      ...            ...            ...      ...   ...   \n",
              "763           10      101             76             48      180  32.9   \n",
              "764            2      122             70             27        0  36.8   \n",
              "765            5      121             72             23      112  26.2   \n",
              "766            1      126             60              0        0  30.1   \n",
              "767            1       93             70             31        0  30.4   \n",
              "\n",
              "     DiabetesPedigreeFunction  Age  Outcome  \n",
              "0                       0.627   50        1  \n",
              "1                       0.351   31        0  \n",
              "2                       0.672   32        1  \n",
              "3                       0.167   21        0  \n",
              "4                       2.288   33        1  \n",
              "..                        ...  ...      ...  \n",
              "763                     0.171   63        0  \n",
              "764                     0.340   27        0  \n",
              "765                     0.245   30        0  \n",
              "766                     0.349   47        1  \n",
              "767                     0.315   23        0  \n",
              "\n",
              "[768 rows x 9 columns]"
            ]
          },
          "execution_count": 4,
          "metadata": {},
          "output_type": "execute_result"
        }
      ],
      "source": [
        "df = pd.read_csv('diabetes_data.csv')\n",
        "df"
      ]
    },
    {
      "cell_type": "code",
      "execution_count": 5,
      "metadata": {
        "colab": {
          "base_uri": "https://localhost:8080/"
        },
        "id": "fKTCSPEgIz0M",
        "outputId": "90a90d77-b412-4804-f0ed-39f259e0fb51"
      },
      "outputs": [
        {
          "data": {
            "text/plain": [
              "(768, 9)"
            ]
          },
          "execution_count": 5,
          "metadata": {},
          "output_type": "execute_result"
        }
      ],
      "source": [
        "df.shape"
      ]
    },
    {
      "cell_type": "code",
      "execution_count": 6,
      "metadata": {
        "colab": {
          "base_uri": "https://localhost:8080/",
          "height": 366
        },
        "id": "vdXy4R-CIeZX",
        "outputId": "7f9604d8-8b29-4fd8-bbe5-30cb4c0aeb49"
      },
      "outputs": [
        {
          "data": {
            "text/plain": [
              "Pregnancies                   int64\n",
              "Glucose                       int64\n",
              "BloodPressure                 int64\n",
              "SkinThickness                 int64\n",
              "Insulin                       int64\n",
              "BMI                         float64\n",
              "DiabetesPedigreeFunction    float64\n",
              "Age                           int64\n",
              "Outcome                       int64\n",
              "dtype: object"
            ]
          },
          "execution_count": 6,
          "metadata": {},
          "output_type": "execute_result"
        }
      ],
      "source": [
        "df.dtypes"
      ]
    },
    {
      "cell_type": "code",
      "execution_count": 7,
      "metadata": {
        "colab": {
          "base_uri": "https://localhost:8080/",
          "height": 366
        },
        "id": "TlZndu1zImvW",
        "outputId": "3386685d-fe44-4b81-cd80-dc5b10cfdce1"
      },
      "outputs": [
        {
          "data": {
            "text/plain": [
              "Pregnancies                 0\n",
              "Glucose                     0\n",
              "BloodPressure               0\n",
              "SkinThickness               0\n",
              "Insulin                     0\n",
              "BMI                         0\n",
              "DiabetesPedigreeFunction    0\n",
              "Age                         0\n",
              "Outcome                     0\n",
              "dtype: int64"
            ]
          },
          "execution_count": 7,
          "metadata": {},
          "output_type": "execute_result"
        }
      ],
      "source": [
        "df.isnull().sum()"
      ]
    },
    {
      "cell_type": "code",
      "execution_count": 8,
      "metadata": {
        "colab": {
          "base_uri": "https://localhost:8080/"
        },
        "id": "5Hz4ewyLIpvG",
        "outputId": "529a5606-0d3e-429d-f6bb-58ed96460a82"
      },
      "outputs": [
        {
          "data": {
            "text/plain": [
              "np.int64(0)"
            ]
          },
          "execution_count": 8,
          "metadata": {},
          "output_type": "execute_result"
        }
      ],
      "source": [
        "df.duplicated().sum()"
      ]
    },
    {
      "cell_type": "code",
      "execution_count": 9,
      "metadata": {
        "colab": {
          "base_uri": "https://localhost:8080/",
          "height": 320
        },
        "id": "ksG3CnvsIshZ",
        "outputId": "b056b5d4-ac48-407a-a16d-08afc508f9c6"
      },
      "outputs": [
        {
          "data": {
            "application/vnd.microsoft.datawrangler.viewer.v0+json": {
              "columns": [
                {
                  "name": "index",
                  "rawType": "object",
                  "type": "string"
                },
                {
                  "name": "Pregnancies",
                  "rawType": "float64",
                  "type": "float"
                },
                {
                  "name": "Glucose",
                  "rawType": "float64",
                  "type": "float"
                },
                {
                  "name": "BloodPressure",
                  "rawType": "float64",
                  "type": "float"
                },
                {
                  "name": "SkinThickness",
                  "rawType": "float64",
                  "type": "float"
                },
                {
                  "name": "Insulin",
                  "rawType": "float64",
                  "type": "float"
                },
                {
                  "name": "BMI",
                  "rawType": "float64",
                  "type": "float"
                },
                {
                  "name": "DiabetesPedigreeFunction",
                  "rawType": "float64",
                  "type": "float"
                },
                {
                  "name": "Age",
                  "rawType": "float64",
                  "type": "float"
                },
                {
                  "name": "Outcome",
                  "rawType": "float64",
                  "type": "float"
                }
              ],
              "conversionMethod": "pd.DataFrame",
              "ref": "7bbd9198-ee42-40d3-bf76-2d509ffb58d4",
              "rows": [
                [
                  "count",
                  "768.0",
                  "768.0",
                  "768.0",
                  "768.0",
                  "768.0",
                  "768.0",
                  "768.0",
                  "768.0",
                  "768.0"
                ],
                [
                  "mean",
                  "3.8450520833333335",
                  "120.89453125",
                  "69.10546875",
                  "20.536458333333332",
                  "79.79947916666667",
                  "31.992578124999998",
                  "0.47187630208333325",
                  "33.240885416666664",
                  "0.3489583333333333"
                ],
                [
                  "std",
                  "3.3695780626988694",
                  "31.97261819513622",
                  "19.355807170644777",
                  "15.952217567727637",
                  "115.24400235133817",
                  "7.884160320375446",
                  "0.3313285950127749",
                  "11.760231540678685",
                  "0.47695137724279896"
                ],
                [
                  "min",
                  "0.0",
                  "0.0",
                  "0.0",
                  "0.0",
                  "0.0",
                  "0.0",
                  "0.078",
                  "21.0",
                  "0.0"
                ],
                [
                  "25%",
                  "1.0",
                  "99.0",
                  "62.0",
                  "0.0",
                  "0.0",
                  "27.3",
                  "0.24375",
                  "24.0",
                  "0.0"
                ],
                [
                  "50%",
                  "3.0",
                  "117.0",
                  "72.0",
                  "23.0",
                  "30.5",
                  "32.0",
                  "0.3725",
                  "29.0",
                  "0.0"
                ],
                [
                  "75%",
                  "6.0",
                  "140.25",
                  "80.0",
                  "32.0",
                  "127.25",
                  "36.6",
                  "0.62625",
                  "41.0",
                  "1.0"
                ],
                [
                  "max",
                  "17.0",
                  "199.0",
                  "122.0",
                  "99.0",
                  "846.0",
                  "67.1",
                  "2.42",
                  "81.0",
                  "1.0"
                ]
              ],
              "shape": {
                "columns": 9,
                "rows": 8
              }
            },
            "text/html": [
              "<div>\n",
              "<style scoped>\n",
              "    .dataframe tbody tr th:only-of-type {\n",
              "        vertical-align: middle;\n",
              "    }\n",
              "\n",
              "    .dataframe tbody tr th {\n",
              "        vertical-align: top;\n",
              "    }\n",
              "\n",
              "    .dataframe thead th {\n",
              "        text-align: right;\n",
              "    }\n",
              "</style>\n",
              "<table border=\"1\" class=\"dataframe\">\n",
              "  <thead>\n",
              "    <tr style=\"text-align: right;\">\n",
              "      <th></th>\n",
              "      <th>Pregnancies</th>\n",
              "      <th>Glucose</th>\n",
              "      <th>BloodPressure</th>\n",
              "      <th>SkinThickness</th>\n",
              "      <th>Insulin</th>\n",
              "      <th>BMI</th>\n",
              "      <th>DiabetesPedigreeFunction</th>\n",
              "      <th>Age</th>\n",
              "      <th>Outcome</th>\n",
              "    </tr>\n",
              "  </thead>\n",
              "  <tbody>\n",
              "    <tr>\n",
              "      <th>count</th>\n",
              "      <td>768.000000</td>\n",
              "      <td>768.000000</td>\n",
              "      <td>768.000000</td>\n",
              "      <td>768.000000</td>\n",
              "      <td>768.000000</td>\n",
              "      <td>768.000000</td>\n",
              "      <td>768.000000</td>\n",
              "      <td>768.000000</td>\n",
              "      <td>768.000000</td>\n",
              "    </tr>\n",
              "    <tr>\n",
              "      <th>mean</th>\n",
              "      <td>3.845052</td>\n",
              "      <td>120.894531</td>\n",
              "      <td>69.105469</td>\n",
              "      <td>20.536458</td>\n",
              "      <td>79.799479</td>\n",
              "      <td>31.992578</td>\n",
              "      <td>0.471876</td>\n",
              "      <td>33.240885</td>\n",
              "      <td>0.348958</td>\n",
              "    </tr>\n",
              "    <tr>\n",
              "      <th>std</th>\n",
              "      <td>3.369578</td>\n",
              "      <td>31.972618</td>\n",
              "      <td>19.355807</td>\n",
              "      <td>15.952218</td>\n",
              "      <td>115.244002</td>\n",
              "      <td>7.884160</td>\n",
              "      <td>0.331329</td>\n",
              "      <td>11.760232</td>\n",
              "      <td>0.476951</td>\n",
              "    </tr>\n",
              "    <tr>\n",
              "      <th>min</th>\n",
              "      <td>0.000000</td>\n",
              "      <td>0.000000</td>\n",
              "      <td>0.000000</td>\n",
              "      <td>0.000000</td>\n",
              "      <td>0.000000</td>\n",
              "      <td>0.000000</td>\n",
              "      <td>0.078000</td>\n",
              "      <td>21.000000</td>\n",
              "      <td>0.000000</td>\n",
              "    </tr>\n",
              "    <tr>\n",
              "      <th>25%</th>\n",
              "      <td>1.000000</td>\n",
              "      <td>99.000000</td>\n",
              "      <td>62.000000</td>\n",
              "      <td>0.000000</td>\n",
              "      <td>0.000000</td>\n",
              "      <td>27.300000</td>\n",
              "      <td>0.243750</td>\n",
              "      <td>24.000000</td>\n",
              "      <td>0.000000</td>\n",
              "    </tr>\n",
              "    <tr>\n",
              "      <th>50%</th>\n",
              "      <td>3.000000</td>\n",
              "      <td>117.000000</td>\n",
              "      <td>72.000000</td>\n",
              "      <td>23.000000</td>\n",
              "      <td>30.500000</td>\n",
              "      <td>32.000000</td>\n",
              "      <td>0.372500</td>\n",
              "      <td>29.000000</td>\n",
              "      <td>0.000000</td>\n",
              "    </tr>\n",
              "    <tr>\n",
              "      <th>75%</th>\n",
              "      <td>6.000000</td>\n",
              "      <td>140.250000</td>\n",
              "      <td>80.000000</td>\n",
              "      <td>32.000000</td>\n",
              "      <td>127.250000</td>\n",
              "      <td>36.600000</td>\n",
              "      <td>0.626250</td>\n",
              "      <td>41.000000</td>\n",
              "      <td>1.000000</td>\n",
              "    </tr>\n",
              "    <tr>\n",
              "      <th>max</th>\n",
              "      <td>17.000000</td>\n",
              "      <td>199.000000</td>\n",
              "      <td>122.000000</td>\n",
              "      <td>99.000000</td>\n",
              "      <td>846.000000</td>\n",
              "      <td>67.100000</td>\n",
              "      <td>2.420000</td>\n",
              "      <td>81.000000</td>\n",
              "      <td>1.000000</td>\n",
              "    </tr>\n",
              "  </tbody>\n",
              "</table>\n",
              "</div>"
            ],
            "text/plain": [
              "       Pregnancies     Glucose  BloodPressure  SkinThickness     Insulin  \\\n",
              "count   768.000000  768.000000     768.000000     768.000000  768.000000   \n",
              "mean      3.845052  120.894531      69.105469      20.536458   79.799479   \n",
              "std       3.369578   31.972618      19.355807      15.952218  115.244002   \n",
              "min       0.000000    0.000000       0.000000       0.000000    0.000000   \n",
              "25%       1.000000   99.000000      62.000000       0.000000    0.000000   \n",
              "50%       3.000000  117.000000      72.000000      23.000000   30.500000   \n",
              "75%       6.000000  140.250000      80.000000      32.000000  127.250000   \n",
              "max      17.000000  199.000000     122.000000      99.000000  846.000000   \n",
              "\n",
              "              BMI  DiabetesPedigreeFunction         Age     Outcome  \n",
              "count  768.000000                768.000000  768.000000  768.000000  \n",
              "mean    31.992578                  0.471876   33.240885    0.348958  \n",
              "std      7.884160                  0.331329   11.760232    0.476951  \n",
              "min      0.000000                  0.078000   21.000000    0.000000  \n",
              "25%     27.300000                  0.243750   24.000000    0.000000  \n",
              "50%     32.000000                  0.372500   29.000000    0.000000  \n",
              "75%     36.600000                  0.626250   41.000000    1.000000  \n",
              "max     67.100000                  2.420000   81.000000    1.000000  "
            ]
          },
          "execution_count": 9,
          "metadata": {},
          "output_type": "execute_result"
        }
      ],
      "source": [
        "df.describe()"
      ]
    },
    {
      "cell_type": "code",
      "execution_count": 10,
      "metadata": {
        "colab": {
          "base_uri": "https://localhost:8080/"
        },
        "id": "l0kft3oRIu8V",
        "outputId": "fff27f00-a2bc-413b-ae63-849c04d2c918"
      },
      "outputs": [
        {
          "name": "stdout",
          "output_type": "stream",
          "text": [
            "<class 'pandas.core.frame.DataFrame'>\n",
            "RangeIndex: 768 entries, 0 to 767\n",
            "Data columns (total 9 columns):\n",
            " #   Column                    Non-Null Count  Dtype  \n",
            "---  ------                    --------------  -----  \n",
            " 0   Pregnancies               768 non-null    int64  \n",
            " 1   Glucose                   768 non-null    int64  \n",
            " 2   BloodPressure             768 non-null    int64  \n",
            " 3   SkinThickness             768 non-null    int64  \n",
            " 4   Insulin                   768 non-null    int64  \n",
            " 5   BMI                       768 non-null    float64\n",
            " 6   DiabetesPedigreeFunction  768 non-null    float64\n",
            " 7   Age                       768 non-null    int64  \n",
            " 8   Outcome                   768 non-null    int64  \n",
            "dtypes: float64(2), int64(7)\n",
            "memory usage: 54.1 KB\n"
          ]
        }
      ],
      "source": [
        "df.info()"
      ]
    },
    {
      "cell_type": "code",
      "execution_count": 11,
      "metadata": {
        "id": "Y2_y7OWUJBxq"
      },
      "outputs": [],
      "source": [
        "x = df.drop(columns=['Outcome'], axis=1)\n",
        "y = df['Outcome']"
      ]
    },
    {
      "cell_type": "code",
      "execution_count": 12,
      "metadata": {
        "colab": {
          "base_uri": "https://localhost:8080/",
          "height": 178
        },
        "id": "QEj5q5LkI7jj",
        "outputId": "71a3f3a2-7963-4b97-ecff-37f0f93b73d5"
      },
      "outputs": [
        {
          "data": {
            "text/plain": [
              "Outcome\n",
              "0    500\n",
              "1    268\n",
              "Name: count, dtype: int64"
            ]
          },
          "execution_count": 12,
          "metadata": {},
          "output_type": "execute_result"
        }
      ],
      "source": [
        "df['Outcome'].value_counts()"
      ]
    },
    {
      "cell_type": "code",
      "execution_count": 13,
      "metadata": {
        "colab": {
          "base_uri": "https://localhost:8080/",
          "height": 521
        },
        "id": "njJqIJgTKMHK",
        "outputId": "7bfc5c86-fb7b-4d9e-a38b-89ba667c9fba"
      },
      "outputs": [
        {
          "data": {
            "image/png": "[encoded data removed]",
            "text/plain": [
              "<Figure size 600x600 with 1 Axes>"
            ]
          },
          "metadata": {},
          "output_type": "display_data"
        }
      ],
      "source": [
        "outcome_counts = df['Outcome'].value_counts()\n",
        "labels = ['No Diabetes (0)', 'Diabetes (1)']\n",
        "sizes = outcome_counts.values\n",
        "colors = ['lightgreen', 'lightcoral']\n",
        "plt.figure(figsize=(6, 6))\n",
        "plt.pie(sizes, labels=labels, colors=colors, autopct='%1.1f%%', startangle=90)\n",
        "plt.title('Proportion of Diabetes Outcomes')\n",
        "plt.show()"
      ]
    },
    {
      "cell_type": "code",
      "execution_count": 14,
      "metadata": {
        "colab": {
          "base_uri": "https://localhost:8080/",
          "height": 211
        },
        "id": "EQtMOfMzKRa0",
        "outputId": "1224074a-3bdf-4913-f56d-5702f5d2e97b"
      },
      "outputs": [
        {
          "data": {
            "image/png": "[encoded data removed]",
            "text/plain": [
              "<Figure size 1500x1500 with 8 Axes>"
            ]
          },
          "metadata": {},
          "output_type": "display_data"
        }
      ],
      "source": [
        "features = df.drop(columns=['Outcome'], axis=1).columns\n",
        "\n",
        "num_features = len(features)\n",
        "num_cols = 3\n",
        "num_rows = (num_features + num_cols - 1) // num_cols\n",
        "\n",
        "fig, axes = plt.subplots(num_rows, num_cols, figsize=(15, 5 * num_rows))\n",
        "\n",
        "for i, feature in enumerate(features):\n",
        "    row = i // num_cols\n",
        "    col = i % num_cols\n",
        "    ax = axes[row, col]\n",
        "\n",
        "    sns.histplot(data=df, x=feature, hue='Outcome', element='step', stat='density', common_norm=False, ax=ax) # Changed 'target' to 'Outcome'\n",
        "    ax.set_title(f'{feature} vs. Target')\n",
        "    ax.set_xlabel(feature)\n",
        "    ax.set_ylabel('Density')\n",
        "\n",
        "for i in range(num_features, num_rows * num_cols):\n",
        "    fig.delaxes(axes.flatten()[i])\n",
        "\n",
        "plt.tight_layout()\n",
        "plt.show()"
      ]
    },
    {
      "cell_type": "code",
      "execution_count": 15,
      "metadata": {
        "id": "9OUrBhZ-Kv0C"
      },
      "outputs": [
        {
          "data": {
            "image/png": "[encoded data removed]",
            "text/plain": [
              "<Figure size 1200x1000 with 2 Axes>"
            ]
          },
          "metadata": {},
          "output_type": "display_data"
        }
      ],
      "source": [
        "correlation_matrix = df.corr()\n",
        "plt.figure(figsize=(12, 10))\n",
        "sns.heatmap(correlation_matrix, annot=True, cmap='coolwarm', fmt=\".2f\")\n",
        "plt.title('Correlation Matrix with Outcome')\n",
        "plt.show()"
      ]
    },
    {
      "cell_type": "code",
      "execution_count": 16,
      "metadata": {
        "id": "47ISmiyOL9Nh"
      },
      "outputs": [],
      "source": [
        "from sklearn.model_selection import train_test_split\n",
        "from sklearn.svm import SVC\n",
        "from sklearn.tree import DecisionTreeClassifier\n",
        "from sklearn.ensemble import RandomForestClassifier, AdaBoostClassifier, ExtraTreesClassifier\n",
        "from sklearn.linear_model import LogisticRegression\n",
        "from xgboost import XGBClassifier\n",
        "from sklearn.metrics import accuracy_score"
      ]
    },
    {
      "cell_type": "code",
      "execution_count": 17,
      "metadata": {
        "id": "-R0d1Lc-MtrU"
      },
      "outputs": [],
      "source": [
        "X_train, X_test, y_train, y_test = train_test_split(x, y, test_size=0.2, random_state=42)"
      ]
    },
    {
      "cell_type": "code",
      "execution_count": 18,
      "metadata": {
        "colab": {
          "base_uri": "https://localhost:8080/"
        },
        "id": "0eQGxZwsMum1",
        "outputId": "d36610f3-6e00-4ada-c7bf-ca295f273398"
      },
      "outputs": [
        {
          "name": "stdout",
          "output_type": "stream",
          "text": [
            "Training SVM...\n",
            "SVM Accuracy: 0.7662\n",
            "--------------------\n",
            "Training Decision Tree...\n",
            "Decision Tree Accuracy: 0.7662\n",
            "--------------------\n",
            "Training Random Forest...\n",
            "Random Forest Accuracy: 0.7403\n",
            "--------------------\n",
            "Training XGBoost...\n",
            "XGBoost Accuracy: 0.7078\n",
            "--------------------\n",
            "Training AdaBoost...\n",
            "AdaBoost Accuracy: 0.7792\n",
            "--------------------\n",
            "Training Extra Trees...\n",
            "Extra Trees Accuracy: 0.7273\n",
            "--------------------\n",
            "Training Logistic Regression...\n",
            "Logistic Regression Accuracy: 0.7468\n",
            "--------------------\n"
          ]
        }
      ],
      "source": [
        "models = {\n",
        "    \"SVM\": SVC(),\n",
        "    \"Decision Tree\": DecisionTreeClassifier(),\n",
        "    \"Random Forest\": RandomForestClassifier(),\n",
        "    \"XGBoost\": XGBClassifier(use_label_encoder=False, eval_metric='logloss'),  # Disable label encoder for XGBoost\n",
        "    \"AdaBoost\": AdaBoostClassifier(),\n",
        "    \"Extra Trees\": ExtraTreesClassifier(),\n",
        "    \"Logistic Regression\": LogisticRegression()\n",
        "}\n",
        "\n",
        "for model_name, model in models.items():\n",
        "    print(f\"Training {model_name}...\")\n",
        "    model.fit(X_train, y_train)\n",
        "    y_pred = model.predict(X_test)\n",
        "    accuracy = accuracy_score(y_test, y_pred)\n",
        "    print(f\"{model_name} Accuracy: {accuracy:.4f}\")\n",
        "    print(\"-\" * 20)"
      ]
    },
    {
      "cell_type": "code",
      "execution_count": 19,
      "metadata": {
        "colab": {
          "base_uri": "https://localhost:8080/"
        },
        "id": "FIpNbRVDM3EK",
        "outputId": "af41b1bb-5996-44ab-d08c-2c324e2e5649"
      },
      "outputs": [
        {
          "name": "stdout",
          "output_type": "stream",
          "text": [
            "Best model: Random Forest with accuracy: 0.7802\n",
            "Refined parameters for Random Forest: {'max_depth': 8, 'min_samples_split': 4, 'n_estimators': 300}\n",
            "Refined accuracy for Random Forest: 0.7883\n"
          ]
        }
      ],
      "source": [
        "from sklearn.model_selection import GridSearchCV, train_test_split\n",
        "X = df.drop(columns=['Outcome'], axis=1)\n",
        "y = df['Outcome']\n",
        "X_train, X_test, y_train, y_test = train_test_split(X, y, test_size=0.2, random_state=42)\n",
        "\n",
        "models = {\n",
        "    \"SVM\": (SVC(), {'C': [0.1, 1, 10], 'kernel': ['linear', 'rbf']}),\n",
        "    \"Decision Tree\": (DecisionTreeClassifier(), {'max_depth': [None, 5, 10], 'min_samples_split': [2, 5, 10]}),\n",
        "    \"Random Forest\": (RandomForestClassifier(), {'n_estimators': [100, 200, 300], 'max_depth': [None, 5, 10]}),\n",
        "    \"XGBoost\": (XGBClassifier(use_label_encoder=False, eval_metric='logloss'), {'n_estimators': [100, 200, 300], 'learning_rate': [0.01, 0.1, 0.2]}),\n",
        "    \"AdaBoost\": (AdaBoostClassifier(), {'n_estimators': [50, 100, 200], 'learning_rate': [0.01, 0.1, 1.0]}),\n",
        "    \"Extra Trees\": (ExtraTreesClassifier(), {'n_estimators': [100, 200, 300], 'max_depth': [None, 5, 10]}),\n",
        "    \"Logistic Regression\": (LogisticRegression(), {'C': [0.1, 1, 10], 'penalty': ['l1', 'l2']})\n",
        "}\n",
        "\n",
        "best_model = None\n",
        "best_accuracy = 0\n",
        "\n",
        "for model_name, (model, param_grid) in models.items():\n",
        "    grid_search = GridSearchCV(model, param_grid, cv=5, scoring='accuracy')\n",
        "    grid_search.fit(X_train, y_train)\n",
        "\n",
        "    if grid_search.best_score_ > best_accuracy:\n",
        "        best_accuracy = grid_search.best_score_\n",
        "        best_model = (model_name, grid_search.best_estimator_)\n",
        "\n",
        "print(f\"Best model: {best_model[0]} with accuracy: {best_accuracy:.4f}\")\n",
        "\n",
        "best_model_name, best_model_estimator = best_model\n",
        "\n",
        "if best_model_name == \"Random Forest\":\n",
        "    refined_param_grid = {\n",
        "        'n_estimators': [250, 300, 350],\n",
        "        'max_depth': [8, 10, 12],\n",
        "        'min_samples_split': [2, 3, 4]\n",
        "    }\n",
        "    grid_search = GridSearchCV(best_model_estimator, refined_param_grid, cv=5, scoring='accuracy')\n",
        "    grid_search.fit(X_train, y_train)\n",
        "    print(f\"Refined parameters for {best_model_name}: {grid_search.best_params_}\")\n",
        "    print(f\"Refined accuracy for {best_model_name}: {grid_search.best_score_:.4f}\")"
      ]
    },
    {
      "cell_type": "code",
      "execution_count": 20,
      "metadata": {
        "colab": {
          "base_uri": "https://localhost:8080/"
        },
        "id": "n1hpV79KO3V6",
        "outputId": "93e050a7-a398-44c9-c356-f0a4a5f542d4"
      },
      "outputs": [
        {
          "name": "stdout",
          "output_type": "stream",
          "text": [
            "Prediction: 1\n",
            "Prediction: The patient has diabetes.\n"
          ]
        }
      ],
      "source": [
        "feature_names = x.columns\n",
        "input_data = []\n",
        "for feature in feature_names:\n",
        "    value = float(input(f\"Enter value for '{feature}': \"))\n",
        "    input_data.append(value)\n",
        "\n",
        "input_data_df = pd.DataFrame([input_data], columns=feature_names)\n",
        "\n",
        "prediction = best_model_estimator.predict(input_data_df)\n",
        "\n",
        "print(\"Prediction:\", prediction[0])\n",
        "\n",
        "if prediction[0] == 0:\n",
        "    print(\"Prediction: The patient does not have diabetes.\")\n",
        "else:\n",
        "    print(\"Prediction: The patient has diabetes.\")"
      ]
    },
    {
      "cell_type": "code",
      "execution_count": 21,
      "metadata": {
        "colab": {
          "base_uri": "https://localhost:8080/"
        },
        "id": "cNcN_6lfTDU6",
        "outputId": "2a86d97f-0fd8-4645-f20a-b1e5c68843a9"
      },
      "outputs": [
        {
          "name": "stdout",
          "output_type": "stream",
          "text": [
            "Model saved to diabetes_prediction_model.pkl\n"
          ]
        }
      ],
      "source": [
        "import pickle\n",
        "filename = 'diabetes_prediction_model.pkl'\n",
        "pickle.dump(best_model_estimator, open(filename, 'wb'))\n",
        "\n",
        "print(f\"Model saved to {filename}\")\n",
        "loaded_model = pickle.load(open(filename, 'rb'))"
      ]
    }
  ],
  "metadata": {
    "colab": {
      "provenance": []
    },
    "kernelspec": {
      "display_name": "Python 3",
      "name": "python3"
    },
    "language_info": {
      "codemirror_mode": {
        "name": "ipython",
        "version": 3
      },
      "file_extension": ".py",
      "mimetype": "text/x-python",
      "name": "python",
      "nbconvert_exporter": "python",
      "pygments_lexer": "ipython3",
      "version": "3.11.8"
    }
  },
  "nbformat": 4,
  "nbformat_minor": 0
}
